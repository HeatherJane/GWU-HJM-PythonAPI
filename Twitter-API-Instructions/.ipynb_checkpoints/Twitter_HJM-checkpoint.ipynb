{
 "cells": [
  {
   "cell_type": "code",
   "execution_count": 35,
   "metadata": {},
   "outputs": [],
   "source": [
    "# Import Dependencies \n",
    "import tweepy\n",
    "import json\n",
    "import pandas as pd\n",
    "import numpy as np\n",
    "import os\n",
    "import matplotlib as matplotlib\n",
    "import matplotlib.pyplot as plt\n",
    "import datetime as datetime\n",
    "import time\n",
    "\n",
    "# Twitter API Keys\n",
    "from config import (consumer_key, consumer_secret, access_token, access_token_secret)\n",
    "\n",
    "# Setup Tweepy API Authentication\n",
    "auth = tweepy.OAuthHandler(consumer_key, consumer_secret)\n",
    "auth.set_access_token(access_token, access_token_secret)\n",
    "# api = tweepy.API(auth, parser=tweepy.parsers.JSONParser())\n",
    "api = tweepy.API(auth)\n",
    "\n",
    "from vaderSentiment.vaderSentiment import SentimentIntensityAnalyzer\n",
    "analyzer = SentimentIntensityAnalyzer()"
   ]
  },
  {
   "cell_type": "code",
   "execution_count": 2,
   "metadata": {},
   "outputs": [
    {
     "name": "stdout",
     "output_type": "stream",
     "text": [
      "/Users/heatherjanemoore/GWU-HJM-PythonAPI/Twitter-API-Instructions\n"
     ]
    }
   ],
   "source": [
    "orig_working_directory= os.getcwd()\n",
    "print(orig_working_directory)"
   ]
  },
  {
   "cell_type": "code",
   "execution_count": 3,
   "metadata": {},
   "outputs": [],
   "source": [
    "# Set Target Search Term\n",
    "target_terms = ('@bbcworld', '@cbsnews', '@cnn', '@foxnews', '@nytimes')\n",
    "\n",
    "# News Org Filters\n",
    "min_tweets = 5\n",
    "max_tweets = 10000\n",
    "max_followers = 2500\n",
    "max_following = 2500\n",
    "\n",
    "# List to hold results\n",
    "tweets_list = []\n",
    "search_term_list = []"
   ]
  },
  {
   "cell_type": "code",
   "execution_count": 4,
   "metadata": {},
   "outputs": [],
   "source": [
    "# Loop through all targets\n",
    "for target in target_terms:\n",
    "    for tweet in tweepy.Cursor(api.search, target, tweet_mode='extended').items(100):\n",
    "        tweets_list.append(tweet)    \n",
    "        search_term_list.append(target)"
   ]
  },
  {
   "cell_type": "code",
   "execution_count": 5,
   "metadata": {},
   "outputs": [
    {
     "data": {
      "text/plain": [
       "Status(_api=<tweepy.api.API object at 0x10b814ad0>, _json={'created_at': 'Sat May 23 00:55:22 +0000 2020', 'id': 1263996910945349633, 'id_str': '1263996910945349633', 'full_text': 'RT @BBCWorld: President Trump says churches are \"essential services\" and he will \"override governors\" so they can reopen https://t.co/jVx7j…', 'truncated': False, 'display_text_range': [0, 140], 'entities': {'hashtags': [], 'symbols': [], 'user_mentions': [{'screen_name': 'BBCWorld', 'name': 'BBC News (World)', 'id': 742143, 'id_str': '742143', 'indices': [3, 12]}], 'urls': []}, 'metadata': {'iso_language_code': 'en', 'result_type': 'recent'}, 'source': '<a href=\"https://mobile.twitter.com\" rel=\"nofollow\">Twitter Web App</a>', 'in_reply_to_status_id': None, 'in_reply_to_status_id_str': None, 'in_reply_to_user_id': None, 'in_reply_to_user_id_str': None, 'in_reply_to_screen_name': None, 'user': {'id': 1245120625116696577, 'id_str': '1245120625116696577', 'name': 'Nana Omari', 'screen_name': 'NanaOmari7', 'location': '', 'description': '', 'url': None, 'entities': {'description': {'urls': []}}, 'protected': False, 'followers_count': 4, 'friends_count': 154, 'listed_count': 0, 'created_at': 'Tue Mar 31 22:48:17 +0000 2020', 'favourites_count': 147, 'utc_offset': None, 'time_zone': None, 'geo_enabled': False, 'verified': False, 'statuses_count': 72, 'lang': None, 'contributors_enabled': False, 'is_translator': False, 'is_translation_enabled': False, 'profile_background_color': 'F5F8FA', 'profile_background_image_url': None, 'profile_background_image_url_https': None, 'profile_background_tile': False, 'profile_image_url': 'http://pbs.twimg.com/profile_images/1246728837939036160/DcoznRlV_normal.jpg', 'profile_image_url_https': 'https://pbs.twimg.com/profile_images/1246728837939036160/DcoznRlV_normal.jpg', 'profile_banner_url': 'https://pbs.twimg.com/profile_banners/1245120625116696577/1586078385', 'profile_link_color': '1DA1F2', 'profile_sidebar_border_color': 'C0DEED', 'profile_sidebar_fill_color': 'DDEEF6', 'profile_text_color': '333333', 'profile_use_background_image': True, 'has_extended_profile': False, 'default_profile': True, 'default_profile_image': False, 'following': False, 'follow_request_sent': False, 'notifications': False, 'translator_type': 'none'}, 'geo': None, 'coordinates': None, 'place': None, 'contributors': None, 'retweeted_status': {'created_at': 'Fri May 22 23:08:06 +0000 2020', 'id': 1263969915796627456, 'id_str': '1263969915796627456', 'full_text': 'President Trump says churches are \"essential services\" and he will \"override governors\" so they can reopen https://t.co/jVx7jqYXl6 https://t.co/iuRPEoimt2', 'truncated': False, 'display_text_range': [0, 130], 'entities': {'hashtags': [], 'symbols': [], 'user_mentions': [], 'urls': [{'url': 'https://t.co/jVx7jqYXl6', 'expanded_url': 'http://bbc.in/2A51UeE', 'display_url': 'bbc.in/2A51UeE', 'indices': [107, 130]}], 'media': [{'id': 1263969652486660097, 'id_str': '1263969652486660097', 'indices': [131, 154], 'media_url': 'http://pbs.twimg.com/amplify_video_thumb/1263969652486660097/img/pgkIF8wjciR4dNoT.jpg', 'media_url_https': 'https://pbs.twimg.com/amplify_video_thumb/1263969652486660097/img/pgkIF8wjciR4dNoT.jpg', 'url': 'https://t.co/iuRPEoimt2', 'display_url': 'pic.twitter.com/iuRPEoimt2', 'expanded_url': 'https://twitter.com/BBCWorld/status/1263969915796627456/video/1', 'type': 'photo', 'sizes': {'thumb': {'w': 150, 'h': 150, 'resize': 'crop'}, 'small': {'w': 383, 'h': 680, 'resize': 'fit'}, 'large': {'w': 720, 'h': 1280, 'resize': 'fit'}, 'medium': {'w': 675, 'h': 1200, 'resize': 'fit'}}}]}, 'extended_entities': {'media': [{'id': 1263969652486660097, 'id_str': '1263969652486660097', 'indices': [131, 154], 'media_url': 'http://pbs.twimg.com/amplify_video_thumb/1263969652486660097/img/pgkIF8wjciR4dNoT.jpg', 'media_url_https': 'https://pbs.twimg.com/amplify_video_thumb/1263969652486660097/img/pgkIF8wjciR4dNoT.jpg', 'url': 'https://t.co/iuRPEoimt2', 'display_url': 'pic.twitter.com/iuRPEoimt2', 'expanded_url': 'https://twitter.com/BBCWorld/status/1263969915796627456/video/1', 'type': 'video', 'sizes': {'thumb': {'w': 150, 'h': 150, 'resize': 'crop'}, 'small': {'w': 383, 'h': 680, 'resize': 'fit'}, 'large': {'w': 720, 'h': 1280, 'resize': 'fit'}, 'medium': {'w': 675, 'h': 1200, 'resize': 'fit'}}, 'video_info': {'aspect_ratio': [9, 16], 'duration_millis': 62229, 'variants': [{'bitrate': 2176000, 'content_type': 'video/mp4', 'url': 'https://video.twimg.com/amplify_video/1263969652486660097/vid/720x1280/gpFbr0JmVjRdtpSD.mp4?tag=13'}, {'bitrate': 632000, 'content_type': 'video/mp4', 'url': 'https://video.twimg.com/amplify_video/1263969652486660097/vid/320x568/USVLA-8kHl-UqXvq.mp4?tag=13'}, {'content_type': 'application/x-mpegURL', 'url': 'https://video.twimg.com/amplify_video/1263969652486660097/pl/L6rF1F5Hesosm4lD.m3u8?tag=13'}, {'bitrate': 832000, 'content_type': 'video/mp4', 'url': 'https://video.twimg.com/amplify_video/1263969652486660097/vid/360x640/Ur3AHEwGW6WKJL6s.mp4?tag=13'}]}, 'additional_media_info': {'monetizable': False}}]}, 'metadata': {'iso_language_code': 'en', 'result_type': 'recent'}, 'source': '<a href=\"http://www.socialflow.com\" rel=\"nofollow\">SocialFlow</a>', 'in_reply_to_status_id': None, 'in_reply_to_status_id_str': None, 'in_reply_to_user_id': None, 'in_reply_to_user_id_str': None, 'in_reply_to_screen_name': None, 'user': {'id': 742143, 'id_str': '742143', 'name': 'BBC News (World)', 'screen_name': 'BBCWorld', 'location': 'London, UK', 'description': \"News, features and analysis from the World's newsroom. Breaking news, follow @BBCBreaking. UK news, @BBCNews. Latest sports news @BBCSport\", 'url': 'https://t.co/7NEgoMwJy3', 'entities': {'url': {'urls': [{'url': 'https://t.co/7NEgoMwJy3', 'expanded_url': 'http://www.bbc.com/news', 'display_url': 'bbc.com/news', 'indices': [0, 23]}]}, 'description': {'urls': []}}, 'protected': False, 'followers_count': 28093311, 'friends_count': 71, 'listed_count': 115602, 'created_at': 'Thu Feb 01 07:44:29 +0000 2007', 'favourites_count': 13, 'utc_offset': None, 'time_zone': None, 'geo_enabled': True, 'verified': True, 'statuses_count': 309977, 'lang': None, 'contributors_enabled': False, 'is_translator': False, 'is_translation_enabled': True, 'profile_background_color': 'FFFFFF', 'profile_background_image_url': 'http://abs.twimg.com/images/themes/theme1/bg.png', 'profile_background_image_url_https': 'https://abs.twimg.com/images/themes/theme1/bg.png', 'profile_background_tile': False, 'profile_image_url': 'http://pbs.twimg.com/profile_images/1150717770478379008/8-XiwK-s_normal.png', 'profile_image_url_https': 'https://pbs.twimg.com/profile_images/1150717770478379008/8-XiwK-s_normal.png', 'profile_banner_url': 'https://pbs.twimg.com/profile_banners/742143/1584532457', 'profile_link_color': '1F527B', 'profile_sidebar_border_color': 'FFFFFF', 'profile_sidebar_fill_color': 'FFFFFF', 'profile_text_color': '5A5A5A', 'profile_use_background_image': True, 'has_extended_profile': False, 'default_profile': False, 'default_profile_image': False, 'following': False, 'follow_request_sent': False, 'notifications': False, 'translator_type': 'none'}, 'geo': None, 'coordinates': None, 'place': None, 'contributors': None, 'is_quote_status': False, 'retweet_count': 235, 'favorite_count': 748, 'favorited': False, 'retweeted': False, 'possibly_sensitive': False, 'lang': 'en'}, 'is_quote_status': False, 'retweet_count': 235, 'favorite_count': 0, 'favorited': False, 'retweeted': False, 'lang': 'en'}, created_at=datetime.datetime(2020, 5, 23, 0, 55, 22), id=1263996910945349633, id_str='1263996910945349633', full_text='RT @BBCWorld: President Trump says churches are \"essential services\" and he will \"override governors\" so they can reopen https://t.co/jVx7j…', truncated=False, display_text_range=[0, 140], entities={'hashtags': [], 'symbols': [], 'user_mentions': [{'screen_name': 'BBCWorld', 'name': 'BBC News (World)', 'id': 742143, 'id_str': '742143', 'indices': [3, 12]}], 'urls': []}, metadata={'iso_language_code': 'en', 'result_type': 'recent'}, source='Twitter Web App', source_url='https://mobile.twitter.com', in_reply_to_status_id=None, in_reply_to_status_id_str=None, in_reply_to_user_id=None, in_reply_to_user_id_str=None, in_reply_to_screen_name=None, author=User(_api=<tweepy.api.API object at 0x10b814ad0>, _json={'id': 1245120625116696577, 'id_str': '1245120625116696577', 'name': 'Nana Omari', 'screen_name': 'NanaOmari7', 'location': '', 'description': '', 'url': None, 'entities': {'description': {'urls': []}}, 'protected': False, 'followers_count': 4, 'friends_count': 154, 'listed_count': 0, 'created_at': 'Tue Mar 31 22:48:17 +0000 2020', 'favourites_count': 147, 'utc_offset': None, 'time_zone': None, 'geo_enabled': False, 'verified': False, 'statuses_count': 72, 'lang': None, 'contributors_enabled': False, 'is_translator': False, 'is_translation_enabled': False, 'profile_background_color': 'F5F8FA', 'profile_background_image_url': None, 'profile_background_image_url_https': None, 'profile_background_tile': False, 'profile_image_url': 'http://pbs.twimg.com/profile_images/1246728837939036160/DcoznRlV_normal.jpg', 'profile_image_url_https': 'https://pbs.twimg.com/profile_images/1246728837939036160/DcoznRlV_normal.jpg', 'profile_banner_url': 'https://pbs.twimg.com/profile_banners/1245120625116696577/1586078385', 'profile_link_color': '1DA1F2', 'profile_sidebar_border_color': 'C0DEED', 'profile_sidebar_fill_color': 'DDEEF6', 'profile_text_color': '333333', 'profile_use_background_image': True, 'has_extended_profile': False, 'default_profile': True, 'default_profile_image': False, 'following': False, 'follow_request_sent': False, 'notifications': False, 'translator_type': 'none'}, id=1245120625116696577, id_str='1245120625116696577', name='Nana Omari', screen_name='NanaOmari7', location='', description='', url=None, entities={'description': {'urls': []}}, protected=False, followers_count=4, friends_count=154, listed_count=0, created_at=datetime.datetime(2020, 3, 31, 22, 48, 17), favourites_count=147, utc_offset=None, time_zone=None, geo_enabled=False, verified=False, statuses_count=72, lang=None, contributors_enabled=False, is_translator=False, is_translation_enabled=False, profile_background_color='F5F8FA', profile_background_image_url=None, profile_background_image_url_https=None, profile_background_tile=False, profile_image_url='http://pbs.twimg.com/profile_images/1246728837939036160/DcoznRlV_normal.jpg', profile_image_url_https='https://pbs.twimg.com/profile_images/1246728837939036160/DcoznRlV_normal.jpg', profile_banner_url='https://pbs.twimg.com/profile_banners/1245120625116696577/1586078385', profile_link_color='1DA1F2', profile_sidebar_border_color='C0DEED', profile_sidebar_fill_color='DDEEF6', profile_text_color='333333', profile_use_background_image=True, has_extended_profile=False, default_profile=True, default_profile_image=False, following=False, follow_request_sent=False, notifications=False, translator_type='none'), user=User(_api=<tweepy.api.API object at 0x10b814ad0>, _json={'id': 1245120625116696577, 'id_str': '1245120625116696577', 'name': 'Nana Omari', 'screen_name': 'NanaOmari7', 'location': '', 'description': '', 'url': None, 'entities': {'description': {'urls': []}}, 'protected': False, 'followers_count': 4, 'friends_count': 154, 'listed_count': 0, 'created_at': 'Tue Mar 31 22:48:17 +0000 2020', 'favourites_count': 147, 'utc_offset': None, 'time_zone': None, 'geo_enabled': False, 'verified': False, 'statuses_count': 72, 'lang': None, 'contributors_enabled': False, 'is_translator': False, 'is_translation_enabled': False, 'profile_background_color': 'F5F8FA', 'profile_background_image_url': None, 'profile_background_image_url_https': None, 'profile_background_tile': False, 'profile_image_url': 'http://pbs.twimg.com/profile_images/1246728837939036160/DcoznRlV_normal.jpg', 'profile_image_url_https': 'https://pbs.twimg.com/profile_images/1246728837939036160/DcoznRlV_normal.jpg', 'profile_banner_url': 'https://pbs.twimg.com/profile_banners/1245120625116696577/1586078385', 'profile_link_color': '1DA1F2', 'profile_sidebar_border_color': 'C0DEED', 'profile_sidebar_fill_color': 'DDEEF6', 'profile_text_color': '333333', 'profile_use_background_image': True, 'has_extended_profile': False, 'default_profile': True, 'default_profile_image': False, 'following': False, 'follow_request_sent': False, 'notifications': False, 'translator_type': 'none'}, id=1245120625116696577, id_str='1245120625116696577', name='Nana Omari', screen_name='NanaOmari7', location='', description='', url=None, entities={'description': {'urls': []}}, protected=False, followers_count=4, friends_count=154, listed_count=0, created_at=datetime.datetime(2020, 3, 31, 22, 48, 17), favourites_count=147, utc_offset=None, time_zone=None, geo_enabled=False, verified=False, statuses_count=72, lang=None, contributors_enabled=False, is_translator=False, is_translation_enabled=False, profile_background_color='F5F8FA', profile_background_image_url=None, profile_background_image_url_https=None, profile_background_tile=False, profile_image_url='http://pbs.twimg.com/profile_images/1246728837939036160/DcoznRlV_normal.jpg', profile_image_url_https='https://pbs.twimg.com/profile_images/1246728837939036160/DcoznRlV_normal.jpg', profile_banner_url='https://pbs.twimg.com/profile_banners/1245120625116696577/1586078385', profile_link_color='1DA1F2', profile_sidebar_border_color='C0DEED', profile_sidebar_fill_color='DDEEF6', profile_text_color='333333', profile_use_background_image=True, has_extended_profile=False, default_profile=True, default_profile_image=False, following=False, follow_request_sent=False, notifications=False, translator_type='none'), geo=None, coordinates=None, place=None, contributors=None, retweeted_status=Status(_api=<tweepy.api.API object at 0x10b814ad0>, _json={'created_at': 'Fri May 22 23:08:06 +0000 2020', 'id': 1263969915796627456, 'id_str': '1263969915796627456', 'full_text': 'President Trump says churches are \"essential services\" and he will \"override governors\" so they can reopen https://t.co/jVx7jqYXl6 https://t.co/iuRPEoimt2', 'truncated': False, 'display_text_range': [0, 130], 'entities': {'hashtags': [], 'symbols': [], 'user_mentions': [], 'urls': [{'url': 'https://t.co/jVx7jqYXl6', 'expanded_url': 'http://bbc.in/2A51UeE', 'display_url': 'bbc.in/2A51UeE', 'indices': [107, 130]}], 'media': [{'id': 1263969652486660097, 'id_str': '1263969652486660097', 'indices': [131, 154], 'media_url': 'http://pbs.twimg.com/amplify_video_thumb/1263969652486660097/img/pgkIF8wjciR4dNoT.jpg', 'media_url_https': 'https://pbs.twimg.com/amplify_video_thumb/1263969652486660097/img/pgkIF8wjciR4dNoT.jpg', 'url': 'https://t.co/iuRPEoimt2', 'display_url': 'pic.twitter.com/iuRPEoimt2', 'expanded_url': 'https://twitter.com/BBCWorld/status/1263969915796627456/video/1', 'type': 'photo', 'sizes': {'thumb': {'w': 150, 'h': 150, 'resize': 'crop'}, 'small': {'w': 383, 'h': 680, 'resize': 'fit'}, 'large': {'w': 720, 'h': 1280, 'resize': 'fit'}, 'medium': {'w': 675, 'h': 1200, 'resize': 'fit'}}}]}, 'extended_entities': {'media': [{'id': 1263969652486660097, 'id_str': '1263969652486660097', 'indices': [131, 154], 'media_url': 'http://pbs.twimg.com/amplify_video_thumb/1263969652486660097/img/pgkIF8wjciR4dNoT.jpg', 'media_url_https': 'https://pbs.twimg.com/amplify_video_thumb/1263969652486660097/img/pgkIF8wjciR4dNoT.jpg', 'url': 'https://t.co/iuRPEoimt2', 'display_url': 'pic.twitter.com/iuRPEoimt2', 'expanded_url': 'https://twitter.com/BBCWorld/status/1263969915796627456/video/1', 'type': 'video', 'sizes': {'thumb': {'w': 150, 'h': 150, 'resize': 'crop'}, 'small': {'w': 383, 'h': 680, 'resize': 'fit'}, 'large': {'w': 720, 'h': 1280, 'resize': 'fit'}, 'medium': {'w': 675, 'h': 1200, 'resize': 'fit'}}, 'video_info': {'aspect_ratio': [9, 16], 'duration_millis': 62229, 'variants': [{'bitrate': 2176000, 'content_type': 'video/mp4', 'url': 'https://video.twimg.com/amplify_video/1263969652486660097/vid/720x1280/gpFbr0JmVjRdtpSD.mp4?tag=13'}, {'bitrate': 632000, 'content_type': 'video/mp4', 'url': 'https://video.twimg.com/amplify_video/1263969652486660097/vid/320x568/USVLA-8kHl-UqXvq.mp4?tag=13'}, {'content_type': 'application/x-mpegURL', 'url': 'https://video.twimg.com/amplify_video/1263969652486660097/pl/L6rF1F5Hesosm4lD.m3u8?tag=13'}, {'bitrate': 832000, 'content_type': 'video/mp4', 'url': 'https://video.twimg.com/amplify_video/1263969652486660097/vid/360x640/Ur3AHEwGW6WKJL6s.mp4?tag=13'}]}, 'additional_media_info': {'monetizable': False}}]}, 'metadata': {'iso_language_code': 'en', 'result_type': 'recent'}, 'source': '<a href=\"http://www.socialflow.com\" rel=\"nofollow\">SocialFlow</a>', 'in_reply_to_status_id': None, 'in_reply_to_status_id_str': None, 'in_reply_to_user_id': None, 'in_reply_to_user_id_str': None, 'in_reply_to_screen_name': None, 'user': {'id': 742143, 'id_str': '742143', 'name': 'BBC News (World)', 'screen_name': 'BBCWorld', 'location': 'London, UK', 'description': \"News, features and analysis from the World's newsroom. Breaking news, follow @BBCBreaking. UK news, @BBCNews. Latest sports news @BBCSport\", 'url': 'https://t.co/7NEgoMwJy3', 'entities': {'url': {'urls': [{'url': 'https://t.co/7NEgoMwJy3', 'expanded_url': 'http://www.bbc.com/news', 'display_url': 'bbc.com/news', 'indices': [0, 23]}]}, 'description': {'urls': []}}, 'protected': False, 'followers_count': 28093311, 'friends_count': 71, 'listed_count': 115602, 'created_at': 'Thu Feb 01 07:44:29 +0000 2007', 'favourites_count': 13, 'utc_offset': None, 'time_zone': None, 'geo_enabled': True, 'verified': True, 'statuses_count': 309977, 'lang': None, 'contributors_enabled': False, 'is_translator': False, 'is_translation_enabled': True, 'profile_background_color': 'FFFFFF', 'profile_background_image_url': 'http://abs.twimg.com/images/themes/theme1/bg.png', 'profile_background_image_url_https': 'https://abs.twimg.com/images/themes/theme1/bg.png', 'profile_background_tile': False, 'profile_image_url': 'http://pbs.twimg.com/profile_images/1150717770478379008/8-XiwK-s_normal.png', 'profile_image_url_https': 'https://pbs.twimg.com/profile_images/1150717770478379008/8-XiwK-s_normal.png', 'profile_banner_url': 'https://pbs.twimg.com/profile_banners/742143/1584532457', 'profile_link_color': '1F527B', 'profile_sidebar_border_color': 'FFFFFF', 'profile_sidebar_fill_color': 'FFFFFF', 'profile_text_color': '5A5A5A', 'profile_use_background_image': True, 'has_extended_profile': False, 'default_profile': False, 'default_profile_image': False, 'following': False, 'follow_request_sent': False, 'notifications': False, 'translator_type': 'none'}, 'geo': None, 'coordinates': None, 'place': None, 'contributors': None, 'is_quote_status': False, 'retweet_count': 235, 'favorite_count': 748, 'favorited': False, 'retweeted': False, 'possibly_sensitive': False, 'lang': 'en'}, created_at=datetime.datetime(2020, 5, 22, 23, 8, 6), id=1263969915796627456, id_str='1263969915796627456', full_text='President Trump says churches are \"essential services\" and he will \"override governors\" so they can reopen https://t.co/jVx7jqYXl6 https://t.co/iuRPEoimt2', truncated=False, display_text_range=[0, 130], entities={'hashtags': [], 'symbols': [], 'user_mentions': [], 'urls': [{'url': 'https://t.co/jVx7jqYXl6', 'expanded_url': 'http://bbc.in/2A51UeE', 'display_url': 'bbc.in/2A51UeE', 'indices': [107, 130]}], 'media': [{'id': 1263969652486660097, 'id_str': '1263969652486660097', 'indices': [131, 154], 'media_url': 'http://pbs.twimg.com/amplify_video_thumb/1263969652486660097/img/pgkIF8wjciR4dNoT.jpg', 'media_url_https': 'https://pbs.twimg.com/amplify_video_thumb/1263969652486660097/img/pgkIF8wjciR4dNoT.jpg', 'url': 'https://t.co/iuRPEoimt2', 'display_url': 'pic.twitter.com/iuRPEoimt2', 'expanded_url': 'https://twitter.com/BBCWorld/status/1263969915796627456/video/1', 'type': 'photo', 'sizes': {'thumb': {'w': 150, 'h': 150, 'resize': 'crop'}, 'small': {'w': 383, 'h': 680, 'resize': 'fit'}, 'large': {'w': 720, 'h': 1280, 'resize': 'fit'}, 'medium': {'w': 675, 'h': 1200, 'resize': 'fit'}}}]}, extended_entities={'media': [{'id': 1263969652486660097, 'id_str': '1263969652486660097', 'indices': [131, 154], 'media_url': 'http://pbs.twimg.com/amplify_video_thumb/1263969652486660097/img/pgkIF8wjciR4dNoT.jpg', 'media_url_https': 'https://pbs.twimg.com/amplify_video_thumb/1263969652486660097/img/pgkIF8wjciR4dNoT.jpg', 'url': 'https://t.co/iuRPEoimt2', 'display_url': 'pic.twitter.com/iuRPEoimt2', 'expanded_url': 'https://twitter.com/BBCWorld/status/1263969915796627456/video/1', 'type': 'video', 'sizes': {'thumb': {'w': 150, 'h': 150, 'resize': 'crop'}, 'small': {'w': 383, 'h': 680, 'resize': 'fit'}, 'large': {'w': 720, 'h': 1280, 'resize': 'fit'}, 'medium': {'w': 675, 'h': 1200, 'resize': 'fit'}}, 'video_info': {'aspect_ratio': [9, 16], 'duration_millis': 62229, 'variants': [{'bitrate': 2176000, 'content_type': 'video/mp4', 'url': 'https://video.twimg.com/amplify_video/1263969652486660097/vid/720x1280/gpFbr0JmVjRdtpSD.mp4?tag=13'}, {'bitrate': 632000, 'content_type': 'video/mp4', 'url': 'https://video.twimg.com/amplify_video/1263969652486660097/vid/320x568/USVLA-8kHl-UqXvq.mp4?tag=13'}, {'content_type': 'application/x-mpegURL', 'url': 'https://video.twimg.com/amplify_video/1263969652486660097/pl/L6rF1F5Hesosm4lD.m3u8?tag=13'}, {'bitrate': 832000, 'content_type': 'video/mp4', 'url': 'https://video.twimg.com/amplify_video/1263969652486660097/vid/360x640/Ur3AHEwGW6WKJL6s.mp4?tag=13'}]}, 'additional_media_info': {'monetizable': False}}]}, metadata={'iso_language_code': 'en', 'result_type': 'recent'}, source='SocialFlow', source_url='http://www.socialflow.com', in_reply_to_status_id=None, in_reply_to_status_id_str=None, in_reply_to_user_id=None, in_reply_to_user_id_str=None, in_reply_to_screen_name=None, author=User(_api=<tweepy.api.API object at 0x10b814ad0>, _json={'id': 742143, 'id_str': '742143', 'name': 'BBC News (World)', 'screen_name': 'BBCWorld', 'location': 'London, UK', 'description': \"News, features and analysis from the World's newsroom. Breaking news, follow @BBCBreaking. UK news, @BBCNews. Latest sports news @BBCSport\", 'url': 'https://t.co/7NEgoMwJy3', 'entities': {'url': {'urls': [{'url': 'https://t.co/7NEgoMwJy3', 'expanded_url': 'http://www.bbc.com/news', 'display_url': 'bbc.com/news', 'indices': [0, 23]}]}, 'description': {'urls': []}}, 'protected': False, 'followers_count': 28093311, 'friends_count': 71, 'listed_count': 115602, 'created_at': 'Thu Feb 01 07:44:29 +0000 2007', 'favourites_count': 13, 'utc_offset': None, 'time_zone': None, 'geo_enabled': True, 'verified': True, 'statuses_count': 309977, 'lang': None, 'contributors_enabled': False, 'is_translator': False, 'is_translation_enabled': True, 'profile_background_color': 'FFFFFF', 'profile_background_image_url': 'http://abs.twimg.com/images/themes/theme1/bg.png', 'profile_background_image_url_https': 'https://abs.twimg.com/images/themes/theme1/bg.png', 'profile_background_tile': False, 'profile_image_url': 'http://pbs.twimg.com/profile_images/1150717770478379008/8-XiwK-s_normal.png', 'profile_image_url_https': 'https://pbs.twimg.com/profile_images/1150717770478379008/8-XiwK-s_normal.png', 'profile_banner_url': 'https://pbs.twimg.com/profile_banners/742143/1584532457', 'profile_link_color': '1F527B', 'profile_sidebar_border_color': 'FFFFFF', 'profile_sidebar_fill_color': 'FFFFFF', 'profile_text_color': '5A5A5A', 'profile_use_background_image': True, 'has_extended_profile': False, 'default_profile': False, 'default_profile_image': False, 'following': False, 'follow_request_sent': False, 'notifications': False, 'translator_type': 'none'}, id=742143, id_str='742143', name='BBC News (World)', screen_name='BBCWorld', location='London, UK', description=\"News, features and analysis from the World's newsroom. Breaking news, follow @BBCBreaking. UK news, @BBCNews. Latest sports news @BBCSport\", url='https://t.co/7NEgoMwJy3', entities={'url': {'urls': [{'url': 'https://t.co/7NEgoMwJy3', 'expanded_url': 'http://www.bbc.com/news', 'display_url': 'bbc.com/news', 'indices': [0, 23]}]}, 'description': {'urls': []}}, protected=False, followers_count=28093311, friends_count=71, listed_count=115602, created_at=datetime.datetime(2007, 2, 1, 7, 44, 29), favourites_count=13, utc_offset=None, time_zone=None, geo_enabled=True, verified=True, statuses_count=309977, lang=None, contributors_enabled=False, is_translator=False, is_translation_enabled=True, profile_background_color='FFFFFF', profile_background_image_url='http://abs.twimg.com/images/themes/theme1/bg.png', profile_background_image_url_https='https://abs.twimg.com/images/themes/theme1/bg.png', profile_background_tile=False, profile_image_url='http://pbs.twimg.com/profile_images/1150717770478379008/8-XiwK-s_normal.png', profile_image_url_https='https://pbs.twimg.com/profile_images/1150717770478379008/8-XiwK-s_normal.png', profile_banner_url='https://pbs.twimg.com/profile_banners/742143/1584532457', profile_link_color='1F527B', profile_sidebar_border_color='FFFFFF', profile_sidebar_fill_color='FFFFFF', profile_text_color='5A5A5A', profile_use_background_image=True, has_extended_profile=False, default_profile=False, default_profile_image=False, following=False, follow_request_sent=False, notifications=False, translator_type='none'), user=User(_api=<tweepy.api.API object at 0x10b814ad0>, _json={'id': 742143, 'id_str': '742143', 'name': 'BBC News (World)', 'screen_name': 'BBCWorld', 'location': 'London, UK', 'description': \"News, features and analysis from the World's newsroom. Breaking news, follow @BBCBreaking. UK news, @BBCNews. Latest sports news @BBCSport\", 'url': 'https://t.co/7NEgoMwJy3', 'entities': {'url': {'urls': [{'url': 'https://t.co/7NEgoMwJy3', 'expanded_url': 'http://www.bbc.com/news', 'display_url': 'bbc.com/news', 'indices': [0, 23]}]}, 'description': {'urls': []}}, 'protected': False, 'followers_count': 28093311, 'friends_count': 71, 'listed_count': 115602, 'created_at': 'Thu Feb 01 07:44:29 +0000 2007', 'favourites_count': 13, 'utc_offset': None, 'time_zone': None, 'geo_enabled': True, 'verified': True, 'statuses_count': 309977, 'lang': None, 'contributors_enabled': False, 'is_translator': False, 'is_translation_enabled': True, 'profile_background_color': 'FFFFFF', 'profile_background_image_url': 'http://abs.twimg.com/images/themes/theme1/bg.png', 'profile_background_image_url_https': 'https://abs.twimg.com/images/themes/theme1/bg.png', 'profile_background_tile': False, 'profile_image_url': 'http://pbs.twimg.com/profile_images/1150717770478379008/8-XiwK-s_normal.png', 'profile_image_url_https': 'https://pbs.twimg.com/profile_images/1150717770478379008/8-XiwK-s_normal.png', 'profile_banner_url': 'https://pbs.twimg.com/profile_banners/742143/1584532457', 'profile_link_color': '1F527B', 'profile_sidebar_border_color': 'FFFFFF', 'profile_sidebar_fill_color': 'FFFFFF', 'profile_text_color': '5A5A5A', 'profile_use_background_image': True, 'has_extended_profile': False, 'default_profile': False, 'default_profile_image': False, 'following': False, 'follow_request_sent': False, 'notifications': False, 'translator_type': 'none'}, id=742143, id_str='742143', name='BBC News (World)', screen_name='BBCWorld', location='London, UK', description=\"News, features and analysis from the World's newsroom. Breaking news, follow @BBCBreaking. UK news, @BBCNews. Latest sports news @BBCSport\", url='https://t.co/7NEgoMwJy3', entities={'url': {'urls': [{'url': 'https://t.co/7NEgoMwJy3', 'expanded_url': 'http://www.bbc.com/news', 'display_url': 'bbc.com/news', 'indices': [0, 23]}]}, 'description': {'urls': []}}, protected=False, followers_count=28093311, friends_count=71, listed_count=115602, created_at=datetime.datetime(2007, 2, 1, 7, 44, 29), favourites_count=13, utc_offset=None, time_zone=None, geo_enabled=True, verified=True, statuses_count=309977, lang=None, contributors_enabled=False, is_translator=False, is_translation_enabled=True, profile_background_color='FFFFFF', profile_background_image_url='http://abs.twimg.com/images/themes/theme1/bg.png', profile_background_image_url_https='https://abs.twimg.com/images/themes/theme1/bg.png', profile_background_tile=False, profile_image_url='http://pbs.twimg.com/profile_images/1150717770478379008/8-XiwK-s_normal.png', profile_image_url_https='https://pbs.twimg.com/profile_images/1150717770478379008/8-XiwK-s_normal.png', profile_banner_url='https://pbs.twimg.com/profile_banners/742143/1584532457', profile_link_color='1F527B', profile_sidebar_border_color='FFFFFF', profile_sidebar_fill_color='FFFFFF', profile_text_color='5A5A5A', profile_use_background_image=True, has_extended_profile=False, default_profile=False, default_profile_image=False, following=False, follow_request_sent=False, notifications=False, translator_type='none'), geo=None, coordinates=None, place=None, contributors=None, is_quote_status=False, retweet_count=235, favorite_count=748, favorited=False, retweeted=False, possibly_sensitive=False, lang='en'), is_quote_status=False, retweet_count=235, favorite_count=0, favorited=False, retweeted=False, lang='en')"
      ]
     },
     "execution_count": 5,
     "metadata": {},
     "output_type": "execute_result"
    }
   ],
   "source": [
    "tweets_list[0]"
   ]
  },
  {
   "cell_type": "code",
   "execution_count": 59,
   "metadata": {},
   "outputs": [],
   "source": [
    "#create lists \n",
    "user_list = []\n",
    "tweet_text_list = []\n",
    "compound_list = []\n",
    "positive_list = []\n",
    "negative_list = []\n",
    "neutral_list = []\n",
    "timestamp_list = []\n",
    "\n",
    "# Loop through all tweets\n",
    "for tweet in tweets_list:\n",
    "    if(\n",
    "        True\n",
    "    ):\n",
    "        # Run Vader Analysis on each tweet\n",
    "        tweet_user = tweet.user.screen_name\n",
    "        tweet_text = tweet.full_text\n",
    "        results = analyzer.polarity_scores(tweet_text)\n",
    "        compound = results[\"compound\"]\n",
    "        pos = results[\"pos\"]\n",
    "        neu = results[\"neu\"]\n",
    "        neg = results[\"neg\"]\n",
    "        timestamp = tweet.created_at.timestamp()\n",
    "    \n",
    "        # Add each value to the appropriate list\n",
    "        user_list.append(tweet_user)\n",
    "        tweet_text_list.append(tweet_text)\n",
    "        compound_list.append(compound)\n",
    "        positive_list.append(pos)\n",
    "        negative_list.append(neg)\n",
    "        neutral_list.append(neu)\n",
    "        timestamp_list.append(timestamp)"
   ]
  },
  {
   "cell_type": "code",
   "execution_count": 42,
   "metadata": {
    "scrolled": true
   },
   "outputs": [
    {
     "data": {
      "text/html": [
       "<div>\n",
       "<style scoped>\n",
       "    .dataframe tbody tr th:only-of-type {\n",
       "        vertical-align: middle;\n",
       "    }\n",
       "\n",
       "    .dataframe tbody tr th {\n",
       "        vertical-align: top;\n",
       "    }\n",
       "\n",
       "    .dataframe thead th {\n",
       "        text-align: right;\n",
       "    }\n",
       "</style>\n",
       "<table border=\"1\" class=\"dataframe\">\n",
       "  <thead>\n",
       "    <tr style=\"text-align: right;\">\n",
       "      <th></th>\n",
       "      <th>User</th>\n",
       "      <th>Search Term</th>\n",
       "      <th>Tweet Text</th>\n",
       "      <th>Compound Score</th>\n",
       "      <th>Positive</th>\n",
       "      <th>Neutral</th>\n",
       "      <th>Negative</th>\n",
       "      <th>Timestamp</th>\n",
       "    </tr>\n",
       "  </thead>\n",
       "  <tbody>\n",
       "    <tr>\n",
       "      <td>0</td>\n",
       "      <td>NanaOmari7</td>\n",
       "      <td>@bbcworld</td>\n",
       "      <td>RT @BBCWorld: President Trump says churches are \"essential services\" and he will \"override governors\" so they can reopen https://t.co/jVx7j…</td>\n",
       "      <td>0.0000</td>\n",
       "      <td>0.000</td>\n",
       "      <td>0.000</td>\n",
       "      <td>1.000</td>\n",
       "      <td>1.590210e+09</td>\n",
       "    </tr>\n",
       "    <tr>\n",
       "      <td>1</td>\n",
       "      <td>sweepsgal1961</td>\n",
       "      <td>@bbcworld</td>\n",
       "      <td>RT @BBCWorld: Trump drug hydroxychloroquine raises death risk in Covid patients, study says https://t.co/6FAo3QSOyS</td>\n",
       "      <td>-0.7184</td>\n",
       "      <td>0.000</td>\n",
       "      <td>0.333</td>\n",
       "      <td>0.667</td>\n",
       "      <td>1.590210e+09</td>\n",
       "    </tr>\n",
       "    <tr>\n",
       "      <td>2</td>\n",
       "      <td>Nuahs81</td>\n",
       "      <td>@bbcworld</td>\n",
       "      <td>RT @BBCWorld: Son of murdered Saudi journalist Jamal Khashoggi releases statement forgiving his killers https://t.co/8ZyDLovynb</td>\n",
       "      <td>-0.7783</td>\n",
       "      <td>0.123</td>\n",
       "      <td>0.369</td>\n",
       "      <td>0.508</td>\n",
       "      <td>1.590210e+09</td>\n",
       "    </tr>\n",
       "    <tr>\n",
       "      <td>3</td>\n",
       "      <td>laradioonline</td>\n",
       "      <td>@bbcworld</td>\n",
       "      <td>RT @BBCWorld: Brazil court releases foul-mouthed Bolsonaro video https://t.co/Nq4ZgEvxll</td>\n",
       "      <td>0.0000</td>\n",
       "      <td>0.000</td>\n",
       "      <td>0.000</td>\n",
       "      <td>1.000</td>\n",
       "      <td>1.590210e+09</td>\n",
       "    </tr>\n",
       "    <tr>\n",
       "      <td>4</td>\n",
       "      <td>apandit1947</td>\n",
       "      <td>@bbcworld</td>\n",
       "      <td>RT @SheebaAslamFehm: Those who think that it is only the fringe elements who are showing bad behaviour and animosity against Muslims may ch…</td>\n",
       "      <td>-0.7506</td>\n",
       "      <td>0.000</td>\n",
       "      <td>0.234</td>\n",
       "      <td>0.766</td>\n",
       "      <td>1.590210e+09</td>\n",
       "    </tr>\n",
       "    <tr>\n",
       "      <td>...</td>\n",
       "      <td>...</td>\n",
       "      <td>...</td>\n",
       "      <td>...</td>\n",
       "      <td>...</td>\n",
       "      <td>...</td>\n",
       "      <td>...</td>\n",
       "      <td>...</td>\n",
       "      <td>...</td>\n",
       "    </tr>\n",
       "    <tr>\n",
       "      <td>495</td>\n",
       "      <td>denntiff</td>\n",
       "      <td>@nytimes</td>\n",
       "      <td>@michaeljknowles @benshapiro @nytimes I am so confused. Can I go back to 10 minutes ago before I read this ?</td>\n",
       "      <td>-0.4572</td>\n",
       "      <td>0.000</td>\n",
       "      <td>0.136</td>\n",
       "      <td>0.864</td>\n",
       "      <td>1.590210e+09</td>\n",
       "    </tr>\n",
       "    <tr>\n",
       "      <td>496</td>\n",
       "      <td>z3FFuO</td>\n",
       "      <td>@nytimes</td>\n",
       "      <td>RT @nytimes: China's leader, Xi Jinping, is trying to press an offensive over Hong Kong at a time of global crisis when China is struggling…</td>\n",
       "      <td>-0.7964</td>\n",
       "      <td>0.000</td>\n",
       "      <td>0.236</td>\n",
       "      <td>0.764</td>\n",
       "      <td>1.590210e+09</td>\n",
       "    </tr>\n",
       "    <tr>\n",
       "      <td>497</td>\n",
       "      <td>Impeachhim2018</td>\n",
       "      <td>@nytimes</td>\n",
       "      <td>@realDonaldTrump @nytimes And the world laughs at you Donald.</td>\n",
       "      <td>0.4939</td>\n",
       "      <td>0.286</td>\n",
       "      <td>0.000</td>\n",
       "      <td>0.714</td>\n",
       "      <td>1.590210e+09</td>\n",
       "    </tr>\n",
       "    <tr>\n",
       "      <td>498</td>\n",
       "      <td>randybrewer1955</td>\n",
       "      <td>@nytimes</td>\n",
       "      <td>RT @realDonaldTrump: ....beginning, was forced to apologize (Fake News!) after the seriously wrong call of the 2016 Election, and is now wi…</td>\n",
       "      <td>-0.8687</td>\n",
       "      <td>0.047</td>\n",
       "      <td>0.378</td>\n",
       "      <td>0.574</td>\n",
       "      <td>1.590210e+09</td>\n",
       "    </tr>\n",
       "    <tr>\n",
       "      <td>499</td>\n",
       "      <td>Ferd_Darl</td>\n",
       "      <td>@nytimes</td>\n",
       "      <td>@nytimes I'll easily go to church if God or Jesus will heal me if I get the virus. But that doesn't seem to be happening. No thanks.</td>\n",
       "      <td>-0.2165</td>\n",
       "      <td>0.107</td>\n",
       "      <td>0.102</td>\n",
       "      <td>0.791</td>\n",
       "      <td>1.590210e+09</td>\n",
       "    </tr>\n",
       "  </tbody>\n",
       "</table>\n",
       "<p>500 rows × 8 columns</p>\n",
       "</div>"
      ],
      "text/plain": [
       "                User Search Term  \\\n",
       "0    NanaOmari7       @bbcworld    \n",
       "1    sweepsgal1961    @bbcworld    \n",
       "2    Nuahs81          @bbcworld    \n",
       "3    laradioonline    @bbcworld    \n",
       "4    apandit1947      @bbcworld    \n",
       "..           ...            ...    \n",
       "495  denntiff         @nytimes     \n",
       "496  z3FFuO           @nytimes     \n",
       "497  Impeachhim2018   @nytimes     \n",
       "498  randybrewer1955  @nytimes     \n",
       "499  Ferd_Darl        @nytimes     \n",
       "\n",
       "                                                                                                                                       Tweet Text  \\\n",
       "0    RT @BBCWorld: President Trump says churches are \"essential services\" and he will \"override governors\" so they can reopen https://t.co/jVx7j…   \n",
       "1    RT @BBCWorld: Trump drug hydroxychloroquine raises death risk in Covid patients, study says https://t.co/6FAo3QSOyS                            \n",
       "2    RT @BBCWorld: Son of murdered Saudi journalist Jamal Khashoggi releases statement forgiving his killers https://t.co/8ZyDLovynb                \n",
       "3    RT @BBCWorld: Brazil court releases foul-mouthed Bolsonaro video https://t.co/Nq4ZgEvxll                                                       \n",
       "4    RT @SheebaAslamFehm: Those who think that it is only the fringe elements who are showing bad behaviour and animosity against Muslims may ch…   \n",
       "..                                                                                                                                            ...   \n",
       "495  @michaeljknowles @benshapiro @nytimes I am so confused. Can I go back to 10 minutes ago before I read this ?                                   \n",
       "496  RT @nytimes: China's leader, Xi Jinping, is trying to press an offensive over Hong Kong at a time of global crisis when China is struggling…   \n",
       "497  @realDonaldTrump @nytimes And the world laughs at you Donald.                                                                                  \n",
       "498  RT @realDonaldTrump: ....beginning, was forced to apologize (Fake News!) after the seriously wrong call of the 2016 Election, and is now wi…   \n",
       "499  @nytimes I'll easily go to church if God or Jesus will heal me if I get the virus. But that doesn't seem to be happening. No thanks.           \n",
       "\n",
       "     Compound Score  Positive  Neutral  Negative     Timestamp  \n",
       "0    0.0000          0.000     0.000    1.000     1.590210e+09  \n",
       "1   -0.7184          0.000     0.333    0.667     1.590210e+09  \n",
       "2   -0.7783          0.123     0.369    0.508     1.590210e+09  \n",
       "3    0.0000          0.000     0.000    1.000     1.590210e+09  \n",
       "4   -0.7506          0.000     0.234    0.766     1.590210e+09  \n",
       "..      ...            ...       ...      ...              ...  \n",
       "495 -0.4572          0.000     0.136    0.864     1.590210e+09  \n",
       "496 -0.7964          0.000     0.236    0.764     1.590210e+09  \n",
       "497  0.4939          0.286     0.000    0.714     1.590210e+09  \n",
       "498 -0.8687          0.047     0.378    0.574     1.590210e+09  \n",
       "499 -0.2165          0.107     0.102    0.791     1.590210e+09  \n",
       "\n",
       "[500 rows x 8 columns]"
      ]
     },
     "execution_count": 42,
     "metadata": {},
     "output_type": "execute_result"
    }
   ],
   "source": [
    "#Put results into a DataFrame\n",
    "    'User': user_list,\n",
    "    'Search Term': search_term_list,\n",
    "    'Tweet Text': tweet_text_list,\n",
    "    'Compound Score': compound_list,\n",
    "    'Positive': positive_list,\n",
    "    'Neutral': negative_list,\n",
    "    'Negative': neutral_list,\n",
    "    'Timestamp': timestamp_list\n",
    "})\n",
    "\n",
    "pd.set_option('display.max_colwidth', -1)\n",
    "\n",
    "results_df"
   ]
  },
  {
   "cell_type": "markdown",
   "metadata": {},
   "source": [
    "## Export & Save DataFrame to CSV"
   ]
  },
  {
   "cell_type": "code",
   "execution_count": null,
   "metadata": {},
   "outputs": [],
   "source": [
    "# Export & Save to a csv here:\n",
    "#sentiments_pd.to_csv(\"twitter_sentiment.csv\")"
   ]
  },
  {
   "cell_type": "code",
   "execution_count": 86,
   "metadata": {},
   "outputs": [
    {
     "data": {
      "image/png": "[encoded data removed]",
      "text/plain": [
       "<Figure size 432x288 with 1 Axes>"
      ]
     },
     "metadata": {
      "needs_background": "light"
     },
     "output_type": "display_data"
    }
   ],
   "source": [
    "# Scatter plot of sentiments of the last 100 tweets pushed by each news organization\n",
    "bbc_df = results_df[results_df[\"Search Term\"]=='@bbcworld']\n",
    "cbs_df = results_df[results_df['Search Term']=='@cbsnews']\n",
    "cnn_df = results_df[results_df['Search Term']=='@cnn']\n",
    "fox_df = results_df[results_df['Search Term']=='@foxnews']\n",
    "nyt_df = results_df[results_df['Search Term']=='@nytimes']\n",
    "plt.plot(bbc_df[\"Timestamp\"], bbc_df[\"Compound Score\"], marker=\"o\", color = 'blue', linestyle=':', linewidth=0)\n",
    "plt.plot(cbs_df[\"Timestamp\"], cbs_df[\"Compound Score\"], marker=\"o\", color = 'red', linestyle=':', linewidth=0)\n",
    "plt.plot(cnn_df[\"Timestamp\"], cnn_df[\"Compound Score\"], marker=\"o\", color = 'green', linestyle=':', linewidth=0)\n",
    "plt.plot(fox_df[\"Timestamp\"], fox_df[\"Compound Score\"], marker=\"o\", color = 'yellow', linestyle=':', linewidth=0)\n",
    "plt.plot(nyt_df[\"Timestamp\"], nyt_df[\"Compound Score\"], marker=\"o\", color = 'orange',linestyle=':', linewidth=0)\n",
    "plt.grid(linestyle='dotted')\n",
    "plt.title(\"Sentiment Analysis of Media Tweets - May 22, 2020)\")\n",
    "plt.ylabel(\"Tweet Polarity\")\n",
    "plt.xlabel(\"Time\")\n",
    "plt.legend(('BBC', 'CBS', 'CNN', 'FOX', 'NYT'),scatterpoints=1,loc='upper left',bbox_to_anchor=(1.25, 1),ncol=1,\\\n",
    "           fontsize=8, markerscale=0.75,title='Media Outlets',edgecolor='none',framealpha=1.00)\n",
    "#plt.savefig(\"Sentiment_Analysis.png\") \n",
    "plt.show()"
   ]
  },
  {
   "cell_type": "markdown",
   "metadata": {},
   "source": [
    "## Create dataframe for second graph"
   ]
  },
  {
   "cell_type": "code",
   "execution_count": 76,
   "metadata": {},
   "outputs": [
    {
     "data": {
      "text/html": [
       "<div>\n",
       "<style scoped>\n",
       "    .dataframe tbody tr th:only-of-type {\n",
       "        vertical-align: middle;\n",
       "    }\n",
       "\n",
       "    .dataframe tbody tr th {\n",
       "        vertical-align: top;\n",
       "    }\n",
       "\n",
       "    .dataframe thead th {\n",
       "        text-align: right;\n",
       "    }\n",
       "</style>\n",
       "<table border=\"1\" class=\"dataframe\">\n",
       "  <thead>\n",
       "    <tr style=\"text-align: right;\">\n",
       "      <th></th>\n",
       "      <th>Compound Score</th>\n",
       "      <th>Positive</th>\n",
       "      <th>Neutral</th>\n",
       "      <th>Negative</th>\n",
       "      <th>Count</th>\n",
       "    </tr>\n",
       "    <tr>\n",
       "      <th>Search Term</th>\n",
       "      <th></th>\n",
       "      <th></th>\n",
       "      <th></th>\n",
       "      <th></th>\n",
       "      <th></th>\n",
       "    </tr>\n",
       "  </thead>\n",
       "  <tbody>\n",
       "    <tr>\n",
       "      <td>@bbcworld</td>\n",
       "      <td>-0.022465</td>\n",
       "      <td>0.06170</td>\n",
       "      <td>0.08627</td>\n",
       "      <td>0.85203</td>\n",
       "      <td>100</td>\n",
       "    </tr>\n",
       "    <tr>\n",
       "      <td>@cbsnews</td>\n",
       "      <td>0.071333</td>\n",
       "      <td>0.07285</td>\n",
       "      <td>0.03556</td>\n",
       "      <td>0.89159</td>\n",
       "      <td>100</td>\n",
       "    </tr>\n",
       "    <tr>\n",
       "      <td>@cnn</td>\n",
       "      <td>0.213426</td>\n",
       "      <td>0.09339</td>\n",
       "      <td>0.03452</td>\n",
       "      <td>0.87210</td>\n",
       "      <td>100</td>\n",
       "    </tr>\n",
       "    <tr>\n",
       "      <td>@foxnews</td>\n",
       "      <td>0.257444</td>\n",
       "      <td>0.11720</td>\n",
       "      <td>0.04332</td>\n",
       "      <td>0.83948</td>\n",
       "      <td>100</td>\n",
       "    </tr>\n",
       "    <tr>\n",
       "      <td>@nytimes</td>\n",
       "      <td>-0.229959</td>\n",
       "      <td>0.06243</td>\n",
       "      <td>0.12964</td>\n",
       "      <td>0.80772</td>\n",
       "      <td>100</td>\n",
       "    </tr>\n",
       "  </tbody>\n",
       "</table>\n",
       "</div>"
      ],
      "text/plain": [
       "             Compound Score  Positive  Neutral  Negative  Count\n",
       "Search Term                                                    \n",
       "@bbcworld   -0.022465        0.06170   0.08627  0.85203   100  \n",
       "@cbsnews     0.071333        0.07285   0.03556  0.89159   100  \n",
       "@cnn         0.213426        0.09339   0.03452  0.87210   100  \n",
       "@foxnews     0.257444        0.11720   0.04332  0.83948   100  \n",
       "@nytimes    -0.229959        0.06243   0.12964  0.80772   100  "
      ]
     },
     "execution_count": 76,
     "metadata": {},
     "output_type": "execute_result"
    }
   ],
   "source": [
    "results_df_group = results_df.groupby('Search Term')\n",
    "summary_df = results_df_group['Compound Score','Positive','Neutral','Negative'].mean()\n",
    "summary_df['Count'] = results_df_group['User'].count()\n",
    "summary_df"
   ]
  },
  {
   "cell_type": "code",
   "execution_count": 84,
   "metadata": {},
   "outputs": [
    {
     "data": {
      "image/png": "[encoded data removed]",
      "text/plain": [
       "<Figure size 432x288 with 1 Axes>"
      ]
     },
     "metadata": {
      "needs_background": "light"
     },
     "output_type": "display_data"
    }
   ],
   "source": [
    "# Plot overall media sentiment on bar graph from summary_df\n",
    "media_agg = ['BBC', 'CBS', 'CNN', 'FOX', 'NYT']\n",
    "sentiment = [-0.022, 0.071, 0.213, 0.257, -0.229]\n",
    "x_axis = np.arange(len(sentiment))\n",
    "\n",
    "colors = ['r', 'b', 'g', 'y', 'orange']\n",
    "\n",
    "plt.bar(x_axis, sentiment, color=colors, alpha=0.65, align='edge')\n",
    "\n",
    "tick_locations = [value+0.4 for value in x_axis]\n",
    "plt.xticks(tick_locations, [\"BBC\", \"CBS\", \"CNN\", \"FOX\", \"NYT\"])\n",
    "plt.grid(linestyle='dotted')\n",
    "plt.title(\"Overall Media Sentiment (05/22/2020)\")\n",
    "plt.xlabel(\"Media\")\n",
    "plt.ylabel(\"Twitter Polarity\")\n",
    "\n",
    "#plt.savefig(\"Media_Mean_Sentiment.png\")\n",
    "plt.show()"
   ]
  },
  {
   "cell_type": "markdown",
   "metadata": {},
   "source": [
    "## Analysis\n"
   ]
  },
  {
   "cell_type": "code",
   "execution_count": null,
   "metadata": {},
   "outputs": [],
   "source": []
  }
 ],
 "metadata": {
  "kernelspec": {
   "display_name": "Python 3",
   "language": "python",
   "name": "python3"
  },
  "language_info": {
   "codemirror_mode": {
    "name": "ipython",
    "version": 3
   },
   "file_extension": ".py",
   "mimetype": "text/x-python",
   "name": "python",
   "nbconvert_exporter": "python",
   "pygments_lexer": "ipython3",
   "version": "3.7.4"
  }
 },
 "nbformat": 4,
 "nbformat_minor": 2
}
